{
 "cells": [
  {
   "cell_type": "markdown",
   "metadata": {},
   "source": [
    "# Grab Data Safety Challenge \n",
    "\n",
    "Objectives: To determine if a certain drive is a safe drive or reckless drive\n",
    "How to know:\n",
    "    1. From the acceleration at the certain point\n",
    "    2. From the Location and any other geolocation behavior"
   ]
  },
  {
   "cell_type": "code",
   "execution_count": 30,
   "metadata": {},
   "outputs": [],
   "source": [
    "import numpy as np # linear algebra\n",
    "import pandas as pd # data processing, CSV file I/O (e.g. pd.read_csv)\n",
    "import json\n",
    "import pprint\n",
    "\n",
    "import os, math\n",
    "\n",
    "features_list_files = [f for f in os.listdir('./features') if not f.startswith('.')]\n",
    "labels_list_files = [f for f in os.listdir('./labels') if not f.startswith('.')]"
   ]
  },
  {
   "cell_type": "code",
   "execution_count": 31,
   "metadata": {},
   "outputs": [
    {
     "name": "stdout",
     "output_type": "stream",
     "text": [
      "['part-00000-e6120af0-10c2-4248-97c4-81baf4304e5c-c000.csv', 'part-00001-e6120af0-10c2-4248-97c4-81baf4304e5c-c000.csv', 'part-00002-e6120af0-10c2-4248-97c4-81baf4304e5c-c000.csv', 'part-00003-e6120af0-10c2-4248-97c4-81baf4304e5c-c000.csv', 'part-00004-e6120af0-10c2-4248-97c4-81baf4304e5c-c000.csv', 'part-00005-e6120af0-10c2-4248-97c4-81baf4304e5c-c000.csv', 'part-00006-e6120af0-10c2-4248-97c4-81baf4304e5c-c000.csv', 'part-00007-e6120af0-10c2-4248-97c4-81baf4304e5c-c000.csv', 'part-00008-e6120af0-10c2-4248-97c4-81baf4304e5c-c000.csv', 'part-00009-e6120af0-10c2-4248-97c4-81baf4304e5c-c000.csv']\n",
      "['part-00000-e9445087-aa0a-433b-a7f6-7f4c19d78ad6-c000.csv']\n"
     ]
    }
   ],
   "source": [
    "print(features_list_files)\n",
    "print(labels_list_files)"
   ]
  },
  {
   "cell_type": "markdown",
   "metadata": {},
   "source": [
    "# Extractions of csv and stitchings"
   ]
  },
  {
   "cell_type": "code",
   "execution_count": 41,
   "metadata": {},
   "outputs": [],
   "source": [
    "def generateDf(filename,folder):\n",
    "    drive_path = './'+folder+'/' + filename\n",
    "    df_category = pd.read_csv(drive_path)\n",
    "    return df_category"
   ]
  },
  {
   "cell_type": "code",
   "execution_count": 52,
   "metadata": {},
   "outputs": [],
   "source": [
    "def generateSafetyDf(filenames):\n",
    "    df_safety= pd.DataFrame(columns=['bookingID', 'Accuracy', 'Bearing', 'acceleration_x', 'acceleration_y',\n",
    "       'acceleration_z', 'gyro_x', 'gyro_y', 'gyro_z', 'second', 'Speed'])\n",
    "    for filename in filenames:\n",
    "        df_safety = pd.concat([df_safety,generateDf(filename,'features')])\n",
    "    return df_safety\n",
    "        "
   ]
  },
  {
   "cell_type": "code",
   "execution_count": 55,
   "metadata": {
    "scrolled": true
   },
   "outputs": [],
   "source": [
    "df_safety = generateSafetyDf(features_list_files)\n",
    "df_label = generateDf(labels_list_files[0],'labels')"
   ]
  },
  {
   "cell_type": "code",
   "execution_count": 79,
   "metadata": {},
   "outputs": [],
   "source": [
    "df_label['bookingID'] = df_label['bookingID'].astype(object)"
   ]
  },
  {
   "cell_type": "code",
   "execution_count": 80,
   "metadata": {},
   "outputs": [
    {
     "name": "stdout",
     "output_type": "stream",
     "text": [
      "177491171\n",
      "40036\n"
     ]
    }
   ],
   "source": [
    "print(df_safety.size)\n",
    "print(df_label.size)"
   ]
  },
  {
   "cell_type": "code",
   "execution_count": 81,
   "metadata": {},
   "outputs": [
    {
     "data": {
      "text/html": [
       "<div>\n",
       "<style scoped>\n",
       "    .dataframe tbody tr th:only-of-type {\n",
       "        vertical-align: middle;\n",
       "    }\n",
       "\n",
       "    .dataframe tbody tr th {\n",
       "        vertical-align: top;\n",
       "    }\n",
       "\n",
       "    .dataframe thead th {\n",
       "        text-align: right;\n",
       "    }\n",
       "</style>\n",
       "<table border=\"1\" class=\"dataframe\">\n",
       "  <thead>\n",
       "    <tr style=\"text-align: right;\">\n",
       "      <th></th>\n",
       "      <th>bookingID</th>\n",
       "      <th>Accuracy</th>\n",
       "      <th>Bearing</th>\n",
       "      <th>acceleration_x</th>\n",
       "      <th>acceleration_y</th>\n",
       "      <th>acceleration_z</th>\n",
       "      <th>gyro_x</th>\n",
       "      <th>gyro_y</th>\n",
       "      <th>gyro_z</th>\n",
       "      <th>second</th>\n",
       "      <th>Speed</th>\n",
       "    </tr>\n",
       "  </thead>\n",
       "  <tbody>\n",
       "    <tr>\n",
       "      <th>0</th>\n",
       "      <td>1202590843006</td>\n",
       "      <td>3.000</td>\n",
       "      <td>353.0</td>\n",
       "      <td>1.228867</td>\n",
       "      <td>8.900100</td>\n",
       "      <td>3.986968</td>\n",
       "      <td>0.008221</td>\n",
       "      <td>0.002269</td>\n",
       "      <td>-0.009966</td>\n",
       "      <td>1362.0</td>\n",
       "      <td>0.000000</td>\n",
       "    </tr>\n",
       "    <tr>\n",
       "      <th>1</th>\n",
       "      <td>274877907034</td>\n",
       "      <td>9.293</td>\n",
       "      <td>17.0</td>\n",
       "      <td>0.032775</td>\n",
       "      <td>8.659933</td>\n",
       "      <td>4.737300</td>\n",
       "      <td>0.024629</td>\n",
       "      <td>0.004028</td>\n",
       "      <td>-0.010858</td>\n",
       "      <td>257.0</td>\n",
       "      <td>0.190000</td>\n",
       "    </tr>\n",
       "    <tr>\n",
       "      <th>2</th>\n",
       "      <td>884763263056</td>\n",
       "      <td>3.000</td>\n",
       "      <td>189.0</td>\n",
       "      <td>1.139675</td>\n",
       "      <td>9.545974</td>\n",
       "      <td>1.951334</td>\n",
       "      <td>-0.006899</td>\n",
       "      <td>-0.015080</td>\n",
       "      <td>0.001122</td>\n",
       "      <td>973.0</td>\n",
       "      <td>0.667059</td>\n",
       "    </tr>\n",
       "    <tr>\n",
       "      <th>3</th>\n",
       "      <td>1073741824054</td>\n",
       "      <td>3.900</td>\n",
       "      <td>126.0</td>\n",
       "      <td>3.871543</td>\n",
       "      <td>10.386364</td>\n",
       "      <td>-0.136474</td>\n",
       "      <td>0.001344</td>\n",
       "      <td>-0.339601</td>\n",
       "      <td>-0.017956</td>\n",
       "      <td>902.0</td>\n",
       "      <td>7.913285</td>\n",
       "    </tr>\n",
       "    <tr>\n",
       "      <th>4</th>\n",
       "      <td>1056561954943</td>\n",
       "      <td>3.900</td>\n",
       "      <td>50.0</td>\n",
       "      <td>-0.112882</td>\n",
       "      <td>10.550960</td>\n",
       "      <td>-1.560110</td>\n",
       "      <td>0.130568</td>\n",
       "      <td>-0.061697</td>\n",
       "      <td>0.161530</td>\n",
       "      <td>820.0</td>\n",
       "      <td>20.419409</td>\n",
       "    </tr>\n",
       "  </tbody>\n",
       "</table>\n",
       "</div>"
      ],
      "text/plain": [
       "       bookingID  Accuracy  Bearing  acceleration_x  acceleration_y  \\\n",
       "0  1202590843006     3.000    353.0        1.228867        8.900100   \n",
       "1   274877907034     9.293     17.0        0.032775        8.659933   \n",
       "2   884763263056     3.000    189.0        1.139675        9.545974   \n",
       "3  1073741824054     3.900    126.0        3.871543       10.386364   \n",
       "4  1056561954943     3.900     50.0       -0.112882       10.550960   \n",
       "\n",
       "   acceleration_z    gyro_x    gyro_y    gyro_z  second      Speed  \n",
       "0        3.986968  0.008221  0.002269 -0.009966  1362.0   0.000000  \n",
       "1        4.737300  0.024629  0.004028 -0.010858   257.0   0.190000  \n",
       "2        1.951334 -0.006899 -0.015080  0.001122   973.0   0.667059  \n",
       "3       -0.136474  0.001344 -0.339601 -0.017956   902.0   7.913285  \n",
       "4       -1.560110  0.130568 -0.061697  0.161530   820.0  20.419409  "
      ]
     },
     "execution_count": 81,
     "metadata": {},
     "output_type": "execute_result"
    }
   ],
   "source": [
    "df_safety.head()"
   ]
  },
  {
   "cell_type": "code",
   "execution_count": 82,
   "metadata": {},
   "outputs": [
    {
     "data": {
      "text/html": [
       "<div>\n",
       "<style scoped>\n",
       "    .dataframe tbody tr th:only-of-type {\n",
       "        vertical-align: middle;\n",
       "    }\n",
       "\n",
       "    .dataframe tbody tr th {\n",
       "        vertical-align: top;\n",
       "    }\n",
       "\n",
       "    .dataframe thead th {\n",
       "        text-align: right;\n",
       "    }\n",
       "</style>\n",
       "<table border=\"1\" class=\"dataframe\">\n",
       "  <thead>\n",
       "    <tr style=\"text-align: right;\">\n",
       "      <th></th>\n",
       "      <th>bookingID</th>\n",
       "      <th>label</th>\n",
       "    </tr>\n",
       "  </thead>\n",
       "  <tbody>\n",
       "    <tr>\n",
       "      <th>0</th>\n",
       "      <td>111669149733</td>\n",
       "      <td>0</td>\n",
       "    </tr>\n",
       "    <tr>\n",
       "      <th>1</th>\n",
       "      <td>335007449205</td>\n",
       "      <td>1</td>\n",
       "    </tr>\n",
       "    <tr>\n",
       "      <th>2</th>\n",
       "      <td>171798691856</td>\n",
       "      <td>0</td>\n",
       "    </tr>\n",
       "    <tr>\n",
       "      <th>3</th>\n",
       "      <td>1520418422900</td>\n",
       "      <td>0</td>\n",
       "    </tr>\n",
       "    <tr>\n",
       "      <th>4</th>\n",
       "      <td>798863917116</td>\n",
       "      <td>0</td>\n",
       "    </tr>\n",
       "  </tbody>\n",
       "</table>\n",
       "</div>"
      ],
      "text/plain": [
       "       bookingID  label\n",
       "0   111669149733      0\n",
       "1   335007449205      1\n",
       "2   171798691856      0\n",
       "3  1520418422900      0\n",
       "4   798863917116      0"
      ]
     },
     "execution_count": 82,
     "metadata": {},
     "output_type": "execute_result"
    }
   ],
   "source": [
    "df_label.head()"
   ]
  },
  {
   "cell_type": "code",
   "execution_count": 83,
   "metadata": {},
   "outputs": [],
   "source": [
    "df_merge = pd.merge(df_safety,df_label,on='bookingID')"
   ]
  },
  {
   "cell_type": "code",
   "execution_count": 84,
   "metadata": {},
   "outputs": [
    {
     "data": {
      "text/html": [
       "<div>\n",
       "<style scoped>\n",
       "    .dataframe tbody tr th:only-of-type {\n",
       "        vertical-align: middle;\n",
       "    }\n",
       "\n",
       "    .dataframe tbody tr th {\n",
       "        vertical-align: top;\n",
       "    }\n",
       "\n",
       "    .dataframe thead th {\n",
       "        text-align: right;\n",
       "    }\n",
       "</style>\n",
       "<table border=\"1\" class=\"dataframe\">\n",
       "  <thead>\n",
       "    <tr style=\"text-align: right;\">\n",
       "      <th></th>\n",
       "      <th>bookingID</th>\n",
       "      <th>Accuracy</th>\n",
       "      <th>Bearing</th>\n",
       "      <th>acceleration_x</th>\n",
       "      <th>acceleration_y</th>\n",
       "      <th>acceleration_z</th>\n",
       "      <th>gyro_x</th>\n",
       "      <th>gyro_y</th>\n",
       "      <th>gyro_z</th>\n",
       "      <th>second</th>\n",
       "      <th>Speed</th>\n",
       "      <th>label</th>\n",
       "    </tr>\n",
       "  </thead>\n",
       "  <tbody>\n",
       "    <tr>\n",
       "      <th>0</th>\n",
       "      <td>1202590843006</td>\n",
       "      <td>3.000</td>\n",
       "      <td>353.0</td>\n",
       "      <td>1.228867</td>\n",
       "      <td>8.900100</td>\n",
       "      <td>3.986968</td>\n",
       "      <td>0.008221</td>\n",
       "      <td>0.002269</td>\n",
       "      <td>-0.009966</td>\n",
       "      <td>1362.0</td>\n",
       "      <td>0.000000</td>\n",
       "      <td>1</td>\n",
       "    </tr>\n",
       "    <tr>\n",
       "      <th>1</th>\n",
       "      <td>1202590843006</td>\n",
       "      <td>3.033</td>\n",
       "      <td>77.0</td>\n",
       "      <td>1.137217</td>\n",
       "      <td>8.975278</td>\n",
       "      <td>3.981050</td>\n",
       "      <td>0.021118</td>\n",
       "      <td>-0.022515</td>\n",
       "      <td>0.024522</td>\n",
       "      <td>541.0</td>\n",
       "      <td>0.000000</td>\n",
       "      <td>1</td>\n",
       "    </tr>\n",
       "    <tr>\n",
       "      <th>2</th>\n",
       "      <td>1202590843006</td>\n",
       "      <td>6.173</td>\n",
       "      <td>283.0</td>\n",
       "      <td>1.522818</td>\n",
       "      <td>7.947064</td>\n",
       "      <td>5.075056</td>\n",
       "      <td>0.137567</td>\n",
       "      <td>-0.297055</td>\n",
       "      <td>-0.017418</td>\n",
       "      <td>154.0</td>\n",
       "      <td>2.863286</td>\n",
       "      <td>1</td>\n",
       "    </tr>\n",
       "    <tr>\n",
       "      <th>3</th>\n",
       "      <td>1202590843006</td>\n",
       "      <td>3.014</td>\n",
       "      <td>353.0</td>\n",
       "      <td>1.134775</td>\n",
       "      <td>8.932489</td>\n",
       "      <td>3.929421</td>\n",
       "      <td>-0.007959</td>\n",
       "      <td>-0.020543</td>\n",
       "      <td>-0.022986</td>\n",
       "      <td>1384.0</td>\n",
       "      <td>0.000000</td>\n",
       "      <td>1</td>\n",
       "    </tr>\n",
       "    <tr>\n",
       "      <th>4</th>\n",
       "      <td>1202590843006</td>\n",
       "      <td>5.209</td>\n",
       "      <td>340.0</td>\n",
       "      <td>0.858197</td>\n",
       "      <td>9.078037</td>\n",
       "      <td>2.944571</td>\n",
       "      <td>0.061924</td>\n",
       "      <td>0.015219</td>\n",
       "      <td>0.025517</td>\n",
       "      <td>1142.0</td>\n",
       "      <td>9.750134</td>\n",
       "      <td>1</td>\n",
       "    </tr>\n",
       "  </tbody>\n",
       "</table>\n",
       "</div>"
      ],
      "text/plain": [
       "       bookingID  Accuracy  Bearing  acceleration_x  acceleration_y  \\\n",
       "0  1202590843006     3.000    353.0        1.228867        8.900100   \n",
       "1  1202590843006     3.033     77.0        1.137217        8.975278   \n",
       "2  1202590843006     6.173    283.0        1.522818        7.947064   \n",
       "3  1202590843006     3.014    353.0        1.134775        8.932489   \n",
       "4  1202590843006     5.209    340.0        0.858197        9.078037   \n",
       "\n",
       "   acceleration_z    gyro_x    gyro_y    gyro_z  second     Speed  label  \n",
       "0        3.986968  0.008221  0.002269 -0.009966  1362.0  0.000000      1  \n",
       "1        3.981050  0.021118 -0.022515  0.024522   541.0  0.000000      1  \n",
       "2        5.075056  0.137567 -0.297055 -0.017418   154.0  2.863286      1  \n",
       "3        3.929421 -0.007959 -0.020543 -0.022986  1384.0  0.000000      1  \n",
       "4        2.944571  0.061924  0.015219  0.025517  1142.0  9.750134      1  "
      ]
     },
     "execution_count": 84,
     "metadata": {},
     "output_type": "execute_result"
    }
   ],
   "source": [
    "df_merge.head()"
   ]
  },
  {
   "cell_type": "markdown",
   "metadata": {},
   "source": [
    "## Generate Pickle for easy nitpicking of df_merge"
   ]
  },
  {
   "cell_type": "code",
   "execution_count": 85,
   "metadata": {},
   "outputs": [],
   "source": [
    "import pickle\n",
    "\n",
    "with open('df_merge.pickle', 'wb') as f:\n",
    "    pickle.dump(df_merge, f)\n",
    "    \n",
    "with open('df_safety.pickle', 'wb') as f:\n",
    "    pickle.dump(df_safety, f)\n",
    "\n",
    "with open('df_label.pickle', 'wb') as f:\n",
    "    pickle.dump(df_label, f)"
   ]
  },
  {
   "cell_type": "markdown",
   "metadata": {},
   "source": [
    "## Opening Pickles for easy dataframe generation"
   ]
  },
  {
   "cell_type": "code",
   "execution_count": 87,
   "metadata": {},
   "outputs": [],
   "source": [
    "df_merge = pd.read_pickle('df_merge.pickle')\n",
    "df_safety = pd.read_pickle('df_safety.pickle')\n",
    "df_label = pd.read_pickle('df_label.pickle')"
   ]
  },
  {
   "cell_type": "code",
   "execution_count": 89,
   "metadata": {},
   "outputs": [
    {
     "name": "stdout",
     "output_type": "stream",
     "text": [
      "(16154418, 12)\n",
      "(16135561, 11)\n",
      "(20018, 2)\n"
     ]
    }
   ],
   "source": [
    "print(df_merge.shape)\n",
    "print(df_safety.shape)\n",
    "print(df_label.shape)"
   ]
  },
  {
   "cell_type": "markdown",
   "metadata": {},
   "source": [
    "# What is the metadata?\n",
    "\n",
    "The difference of gyrometer and accelerometer:\n",
    "A gyroscope is a device that uses Earth's gravity to help determine orientation\n",
    "An accelerometer is a compact device designed to measure non-gravitational acceleration. When the object it's integrated into goes from a standstill to any velocity\n",
    "\n",
    "It can do this in all 3 XYZ axis, or directions, which are left/right (X), forward/backwards (Y), and up/down (Z)"
   ]
  },
  {
   "attachments": {
    "image.png": {
     "image/png": "[encoded data removed]"
    }
   },
   "cell_type": "markdown",
   "metadata": {},
   "source": [
    "![image.png](attachment:image.png)"
   ]
  },
  {
   "cell_type": "markdown",
   "metadata": {},
   "source": [
    "# Let's do an exploratory analysis"
   ]
  },
  {
   "cell_type": "markdown",
   "metadata": {},
   "source": [
    "To explore and understand the dataset\n",
    "- Viewing the data\n",
    "    - Create a grouping of merged Booking ID.\n",
    "    - Find out the aggregations of each variable.\n",
    "    - Correlation Analysis\n",
    "    - Graphing using matplotlib\n",
    "- Comparing models and discuss improvements\n",
    "\n",
    "Challenges:\n",
    "Cleaning out the data"
   ]
  },
  {
   "cell_type": "code",
   "execution_count": 95,
   "metadata": {},
   "outputs": [
    {
     "data": {
      "text/html": [
       "<div>\n",
       "<style scoped>\n",
       "    .dataframe tbody tr th:only-of-type {\n",
       "        vertical-align: middle;\n",
       "    }\n",
       "\n",
       "    .dataframe tbody tr th {\n",
       "        vertical-align: top;\n",
       "    }\n",
       "\n",
       "    .dataframe thead th {\n",
       "        text-align: right;\n",
       "    }\n",
       "</style>\n",
       "<table border=\"1\" class=\"dataframe\">\n",
       "  <thead>\n",
       "    <tr style=\"text-align: right;\">\n",
       "      <th></th>\n",
       "      <th>count</th>\n",
       "      <th>mean</th>\n",
       "      <th>std</th>\n",
       "      <th>min</th>\n",
       "      <th>25%</th>\n",
       "      <th>50%</th>\n",
       "      <th>75%</th>\n",
       "      <th>max</th>\n",
       "    </tr>\n",
       "  </thead>\n",
       "  <tbody>\n",
       "    <tr>\n",
       "      <th>Accuracy</th>\n",
       "      <td>16154418.0</td>\n",
       "      <td>11.607443</td>\n",
       "      <td>8.686924e+01</td>\n",
       "      <td>0.750000</td>\n",
       "      <td>3.900000</td>\n",
       "      <td>4.255000</td>\n",
       "      <td>8.000000</td>\n",
       "      <td>6.070101e+03</td>\n",
       "    </tr>\n",
       "    <tr>\n",
       "      <th>Bearing</th>\n",
       "      <td>16154418.0</td>\n",
       "      <td>168.977125</td>\n",
       "      <td>1.072962e+02</td>\n",
       "      <td>0.000000</td>\n",
       "      <td>78.000000</td>\n",
       "      <td>168.962120</td>\n",
       "      <td>263.000000</td>\n",
       "      <td>3.599995e+02</td>\n",
       "    </tr>\n",
       "    <tr>\n",
       "      <th>acceleration_x</th>\n",
       "      <td>16154418.0</td>\n",
       "      <td>0.069311</td>\n",
       "      <td>1.423701e+00</td>\n",
       "      <td>-78.419685</td>\n",
       "      <td>-0.507825</td>\n",
       "      <td>0.061600</td>\n",
       "      <td>0.635379</td>\n",
       "      <td>6.687346e+01</td>\n",
       "    </tr>\n",
       "    <tr>\n",
       "      <th>acceleration_y</th>\n",
       "      <td>16154418.0</td>\n",
       "      <td>4.464359</td>\n",
       "      <td>8.132821e+00</td>\n",
       "      <td>-72.994119</td>\n",
       "      <td>-2.113992</td>\n",
       "      <td>9.081207</td>\n",
       "      <td>9.709685</td>\n",
       "      <td>7.505589e+01</td>\n",
       "    </tr>\n",
       "    <tr>\n",
       "      <th>acceleration_z</th>\n",
       "      <td>16154418.0</td>\n",
       "      <td>0.892730</td>\n",
       "      <td>3.252890e+00</td>\n",
       "      <td>-78.448420</td>\n",
       "      <td>-0.933767</td>\n",
       "      <td>0.774093</td>\n",
       "      <td>2.749072</td>\n",
       "      <td>7.805576e+01</td>\n",
       "    </tr>\n",
       "    <tr>\n",
       "      <th>gyro_x</th>\n",
       "      <td>16154418.0</td>\n",
       "      <td>-0.001713</td>\n",
       "      <td>1.445047e-01</td>\n",
       "      <td>-48.455750</td>\n",
       "      <td>-0.026783</td>\n",
       "      <td>-0.000644</td>\n",
       "      <td>0.023300</td>\n",
       "      <td>3.983975e+01</td>\n",
       "    </tr>\n",
       "    <tr>\n",
       "      <th>gyro_y</th>\n",
       "      <td>16154418.0</td>\n",
       "      <td>0.000266</td>\n",
       "      <td>3.398832e-01</td>\n",
       "      <td>-74.888610</td>\n",
       "      <td>-0.029947</td>\n",
       "      <td>0.000262</td>\n",
       "      <td>0.031418</td>\n",
       "      <td>8.031496e+01</td>\n",
       "    </tr>\n",
       "    <tr>\n",
       "      <th>gyro_z</th>\n",
       "      <td>16154418.0</td>\n",
       "      <td>-0.000254</td>\n",
       "      <td>1.480109e-01</td>\n",
       "      <td>-53.554450</td>\n",
       "      <td>-0.018759</td>\n",
       "      <td>-0.000035</td>\n",
       "      <td>0.018234</td>\n",
       "      <td>6.630078e+01</td>\n",
       "    </tr>\n",
       "    <tr>\n",
       "      <th>second</th>\n",
       "      <td>16154418.0</td>\n",
       "      <td>3799.904859</td>\n",
       "      <td>1.435848e+06</td>\n",
       "      <td>0.000000</td>\n",
       "      <td>241.000000</td>\n",
       "      <td>520.000000</td>\n",
       "      <td>863.000000</td>\n",
       "      <td>1.495797e+09</td>\n",
       "    </tr>\n",
       "    <tr>\n",
       "      <th>Speed</th>\n",
       "      <td>16154418.0</td>\n",
       "      <td>9.006626</td>\n",
       "      <td>8.106292e+00</td>\n",
       "      <td>-2.000000</td>\n",
       "      <td>1.020000</td>\n",
       "      <td>7.530000</td>\n",
       "      <td>15.480000</td>\n",
       "      <td>1.480186e+02</td>\n",
       "    </tr>\n",
       "    <tr>\n",
       "      <th>label</th>\n",
       "      <td>16154418.0</td>\n",
       "      <td>0.305729</td>\n",
       "      <td>4.607154e-01</td>\n",
       "      <td>0.000000</td>\n",
       "      <td>0.000000</td>\n",
       "      <td>0.000000</td>\n",
       "      <td>1.000000</td>\n",
       "      <td>1.000000e+00</td>\n",
       "    </tr>\n",
       "  </tbody>\n",
       "</table>\n",
       "</div>"
      ],
      "text/plain": [
       "                     count         mean           std        min         25%  \\\n",
       "Accuracy        16154418.0    11.607443  8.686924e+01   0.750000    3.900000   \n",
       "Bearing         16154418.0   168.977125  1.072962e+02   0.000000   78.000000   \n",
       "acceleration_x  16154418.0     0.069311  1.423701e+00 -78.419685   -0.507825   \n",
       "acceleration_y  16154418.0     4.464359  8.132821e+00 -72.994119   -2.113992   \n",
       "acceleration_z  16154418.0     0.892730  3.252890e+00 -78.448420   -0.933767   \n",
       "gyro_x          16154418.0    -0.001713  1.445047e-01 -48.455750   -0.026783   \n",
       "gyro_y          16154418.0     0.000266  3.398832e-01 -74.888610   -0.029947   \n",
       "gyro_z          16154418.0    -0.000254  1.480109e-01 -53.554450   -0.018759   \n",
       "second          16154418.0  3799.904859  1.435848e+06   0.000000  241.000000   \n",
       "Speed           16154418.0     9.006626  8.106292e+00  -2.000000    1.020000   \n",
       "label           16154418.0     0.305729  4.607154e-01   0.000000    0.000000   \n",
       "\n",
       "                       50%         75%           max  \n",
       "Accuracy          4.255000    8.000000  6.070101e+03  \n",
       "Bearing         168.962120  263.000000  3.599995e+02  \n",
       "acceleration_x    0.061600    0.635379  6.687346e+01  \n",
       "acceleration_y    9.081207    9.709685  7.505589e+01  \n",
       "acceleration_z    0.774093    2.749072  7.805576e+01  \n",
       "gyro_x           -0.000644    0.023300  3.983975e+01  \n",
       "gyro_y            0.000262    0.031418  8.031496e+01  \n",
       "gyro_z           -0.000035    0.018234  6.630078e+01  \n",
       "second          520.000000  863.000000  1.495797e+09  \n",
       "Speed             7.530000   15.480000  1.480186e+02  \n",
       "label             0.000000    1.000000  1.000000e+00  "
      ]
     },
     "execution_count": 95,
     "metadata": {},
     "output_type": "execute_result"
    }
   ],
   "source": [
    "# Describing the dataset\n",
    "df_merge.describe().T"
   ]
  },
  {
   "cell_type": "code",
   "execution_count": 96,
   "metadata": {},
   "outputs": [
    {
     "data": {
      "text/html": [
       "<div>\n",
       "<style scoped>\n",
       "    .dataframe tbody tr th:only-of-type {\n",
       "        vertical-align: middle;\n",
       "    }\n",
       "\n",
       "    .dataframe tbody tr th {\n",
       "        vertical-align: top;\n",
       "    }\n",
       "\n",
       "    .dataframe thead th {\n",
       "        text-align: right;\n",
       "    }\n",
       "</style>\n",
       "<table border=\"1\" class=\"dataframe\">\n",
       "  <thead>\n",
       "    <tr style=\"text-align: right;\">\n",
       "      <th></th>\n",
       "      <th>bookingID</th>\n",
       "    </tr>\n",
       "  </thead>\n",
       "  <tbody>\n",
       "    <tr>\n",
       "      <th>count</th>\n",
       "      <td>16154418</td>\n",
       "    </tr>\n",
       "    <tr>\n",
       "      <th>unique</th>\n",
       "      <td>20000</td>\n",
       "    </tr>\n",
       "    <tr>\n",
       "      <th>top</th>\n",
       "      <td>438086664371</td>\n",
       "    </tr>\n",
       "    <tr>\n",
       "      <th>freq</th>\n",
       "      <td>7561</td>\n",
       "    </tr>\n",
       "  </tbody>\n",
       "</table>\n",
       "</div>"
      ],
      "text/plain": [
       "           bookingID\n",
       "count       16154418\n",
       "unique         20000\n",
       "top     438086664371\n",
       "freq            7561"
      ]
     },
     "execution_count": 96,
     "metadata": {},
     "output_type": "execute_result"
    }
   ],
   "source": [
    "# Describing the dataset (non numerical values)\n",
    "df_merge.describe(include=['object'])"
   ]
  },
  {
   "cell_type": "code",
   "execution_count": 101,
   "metadata": {},
   "outputs": [
    {
     "name": "stdout",
     "output_type": "stream",
     "text": [
      "<class 'pandas.core.frame.DataFrame'>\n",
      "Int64Index: 16154418 entries, 0 to 16154417\n",
      "Data columns (total 12 columns):\n",
      "bookingID         object\n",
      "Accuracy          float64\n",
      "Bearing           float64\n",
      "acceleration_x    float64\n",
      "acceleration_y    float64\n",
      "acceleration_z    float64\n",
      "gyro_x            float64\n",
      "gyro_y            float64\n",
      "gyro_z            float64\n",
      "second            float64\n",
      "Speed             float64\n",
      "label             int64\n",
      "dtypes: float64(10), int64(1), object(1)\n",
      "memory usage: 1.6+ GB\n"
     ]
    }
   ],
   "source": [
    "# In a more simplified way\n",
    "df_merge.info()"
   ]
  },
  {
   "cell_type": "markdown",
   "metadata": {},
   "source": [
    "### Seems like we have a clean data with values for all 1.6 million rows"
   ]
  },
  {
   "cell_type": "markdown",
   "metadata": {},
   "source": [
    "## Aggregate data with booking ID"
   ]
  },
  {
   "cell_type": "code",
   "execution_count": 104,
   "metadata": {},
   "outputs": [],
   "source": [
    "df_aggregate_mean = df_merge.groupby(['bookingID']).mean()"
   ]
  },
  {
   "cell_type": "code",
   "execution_count": 113,
   "metadata": {},
   "outputs": [],
   "source": [
    "df_aggregate_mean_reckless = df_aggregate_mean[df_aggregate_mean['label']==1]\n",
    "df_aggregate_mean_safe = df_aggregate_mean[df_aggregate_mean['label']==0]"
   ]
  },
  {
   "cell_type": "code",
   "execution_count": 118,
   "metadata": {},
   "outputs": [
    {
     "name": "stdout",
     "output_type": "stream",
     "text": [
      "54813\n",
      "164989\n"
     ]
    }
   ],
   "source": [
    "print(df_aggregate_mean_reckless.size)\n",
    "print(df_aggregate_mean_safe.size)"
   ]
  },
  {
   "cell_type": "code",
   "execution_count": 111,
   "metadata": {},
   "outputs": [
    {
     "name": "stdout",
     "output_type": "stream",
     "text": [
      "0.0    14999\n",
      "1.0     4983\n",
      "0.5       18\n",
      "Name: label, dtype: int64\n"
     ]
    },
    {
     "data": {
      "image/png": "[encoded data removed]",
      "text/plain": [
       "<Figure size 432x288 with 1 Axes>"
      ]
     },
     "metadata": {},
     "output_type": "display_data"
    }
   ],
   "source": [
    "# Import seaborn and matplotlib with matplotlib inline\n",
    "import seaborn as sns\n",
    "import matplotlib.pyplot as plt\n",
    "%matplotlib inline\n",
    "\n",
    "# Getting the count of people that leave and not\n",
    "labelcounts=df_aggregate_mean['label'].value_counts()\n",
    "print(labelcounts)\n",
    "\n",
    "# Using matplotlib pie chart and label the pie chart\n",
    "plt.pie(labelcounts,labels=['safe','reckless','uncertain']);"
   ]
  },
  {
   "cell_type": "code",
   "execution_count": 112,
   "metadata": {},
   "outputs": [
    {
     "name": "stderr",
     "output_type": "stream",
     "text": [
      "C:\\new_software\\Anaconda\\lib\\site-packages\\scipy\\stats\\stats.py:1713: FutureWarning: Using a non-tuple sequence for multidimensional indexing is deprecated; use `arr[tuple(seq)]` instead of `arr[seq]`. In the future this will be interpreted as an array index, `arr[np.array(seq)]`, which will result either in an error or a different result.\n",
      "  return np.add.reduce(sorted[indexer] * weights, axis=axis) / sumval\n"
     ]
    },
    {
     "data": {
      "image/png": "[encoded data removed]",
      "text/plain": [
       "<Figure size 432x288 with 1 Axes>"
      ]
     },
     "metadata": {
      "needs_background": "light"
     },
     "output_type": "display_data"
    }
   ],
   "source": [
    "# Getting the distribution of label\n",
    "sns.distplot(df_aggregate_mean['Speed']);"
   ]
  },
  {
   "cell_type": "code",
   "execution_count": 117,
   "metadata": {},
   "outputs": [
    {
     "data": {
      "image/png": "[encoded data removed]",
      "text/plain": [
       "<Figure size 1440x720 with 2 Axes>"
      ]
     },
     "metadata": {
      "needs_background": "light"
     },
     "output_type": "display_data"
    }
   ],
   "source": [
    "# Create a figure instance, and the two subplots\n",
    "fig = plt.figure(figsize=(20,10))\n",
    "ax1 = fig.add_subplot(221)\n",
    "ax2 = fig.add_subplot(222)\n",
    "\n",
    "# Tell pointplot to plot on ax1 with the ax argument (speed)\n",
    "sns.distplot(df_aggregate_mean_reckless['Speed'],ax = ax1);\n",
    "# Tell the factorplot to plot on ax2 with the ax argument (speed)\n",
    "sns.distplot(df_aggregate_mean_safe['Speed'],ax = ax2);"
   ]
  },
  {
   "cell_type": "markdown",
   "metadata": {},
   "source": [
    "### In terms of speed: It is actually quite similar amongst the reckless and the safe drivings"
   ]
  },
  {
   "cell_type": "code",
   "execution_count": 125,
   "metadata": {},
   "outputs": [
    {
     "data": {
      "text/html": [
       "<div>\n",
       "<style scoped>\n",
       "    .dataframe tbody tr th:only-of-type {\n",
       "        vertical-align: middle;\n",
       "    }\n",
       "\n",
       "    .dataframe tbody tr th {\n",
       "        vertical-align: top;\n",
       "    }\n",
       "\n",
       "    .dataframe thead th {\n",
       "        text-align: right;\n",
       "    }\n",
       "</style>\n",
       "<table border=\"1\" class=\"dataframe\">\n",
       "  <thead>\n",
       "    <tr style=\"text-align: right;\">\n",
       "      <th></th>\n",
       "      <th>Accuracy</th>\n",
       "      <th>Bearing</th>\n",
       "      <th>acceleration_x</th>\n",
       "      <th>acceleration_y</th>\n",
       "      <th>acceleration_z</th>\n",
       "      <th>gyro_x</th>\n",
       "      <th>gyro_y</th>\n",
       "      <th>gyro_z</th>\n",
       "      <th>second</th>\n",
       "      <th>Speed</th>\n",
       "      <th>label</th>\n",
       "    </tr>\n",
       "  </thead>\n",
       "  <tbody>\n",
       "    <tr>\n",
       "      <th>Accuracy</th>\n",
       "      <td>1.000000</td>\n",
       "      <td>0.001813</td>\n",
       "      <td>-0.005855</td>\n",
       "      <td>-0.202641</td>\n",
       "      <td>-0.124867</td>\n",
       "      <td>-0.028799</td>\n",
       "      <td>0.004703</td>\n",
       "      <td>0.002909</td>\n",
       "      <td>0.001258</td>\n",
       "      <td>-0.042222</td>\n",
       "      <td>0.006292</td>\n",
       "    </tr>\n",
       "    <tr>\n",
       "      <th>Bearing</th>\n",
       "      <td>0.001813</td>\n",
       "      <td>1.000000</td>\n",
       "      <td>-0.002346</td>\n",
       "      <td>-0.115312</td>\n",
       "      <td>-0.079200</td>\n",
       "      <td>-0.004892</td>\n",
       "      <td>-0.005136</td>\n",
       "      <td>-0.017744</td>\n",
       "      <td>0.002727</td>\n",
       "      <td>0.114007</td>\n",
       "      <td>-0.023058</td>\n",
       "    </tr>\n",
       "    <tr>\n",
       "      <th>acceleration_x</th>\n",
       "      <td>-0.005855</td>\n",
       "      <td>-0.002346</td>\n",
       "      <td>1.000000</td>\n",
       "      <td>0.068627</td>\n",
       "      <td>0.017269</td>\n",
       "      <td>-0.004121</td>\n",
       "      <td>0.001024</td>\n",
       "      <td>0.007346</td>\n",
       "      <td>-0.000444</td>\n",
       "      <td>0.005519</td>\n",
       "      <td>-0.005662</td>\n",
       "    </tr>\n",
       "    <tr>\n",
       "      <th>acceleration_y</th>\n",
       "      <td>-0.202641</td>\n",
       "      <td>-0.115312</td>\n",
       "      <td>0.068627</td>\n",
       "      <td>1.000000</td>\n",
       "      <td>0.397860</td>\n",
       "      <td>0.147207</td>\n",
       "      <td>-0.011017</td>\n",
       "      <td>0.009202</td>\n",
       "      <td>0.006165</td>\n",
       "      <td>-0.003668</td>\n",
       "      <td>-0.006896</td>\n",
       "    </tr>\n",
       "    <tr>\n",
       "      <th>acceleration_z</th>\n",
       "      <td>-0.124867</td>\n",
       "      <td>-0.079200</td>\n",
       "      <td>0.017269</td>\n",
       "      <td>0.397860</td>\n",
       "      <td>1.000000</td>\n",
       "      <td>0.100788</td>\n",
       "      <td>-0.014717</td>\n",
       "      <td>-0.005362</td>\n",
       "      <td>0.001114</td>\n",
       "      <td>-0.014707</td>\n",
       "      <td>0.033185</td>\n",
       "    </tr>\n",
       "    <tr>\n",
       "      <th>gyro_x</th>\n",
       "      <td>-0.028799</td>\n",
       "      <td>-0.004892</td>\n",
       "      <td>-0.004121</td>\n",
       "      <td>0.147207</td>\n",
       "      <td>0.100788</td>\n",
       "      <td>1.000000</td>\n",
       "      <td>0.075257</td>\n",
       "      <td>-0.002129</td>\n",
       "      <td>-0.017067</td>\n",
       "      <td>-0.014603</td>\n",
       "      <td>0.018658</td>\n",
       "    </tr>\n",
       "    <tr>\n",
       "      <th>gyro_y</th>\n",
       "      <td>0.004703</td>\n",
       "      <td>-0.005136</td>\n",
       "      <td>0.001024</td>\n",
       "      <td>-0.011017</td>\n",
       "      <td>-0.014717</td>\n",
       "      <td>0.075257</td>\n",
       "      <td>1.000000</td>\n",
       "      <td>-0.026305</td>\n",
       "      <td>0.001036</td>\n",
       "      <td>0.007790</td>\n",
       "      <td>-0.003615</td>\n",
       "    </tr>\n",
       "    <tr>\n",
       "      <th>gyro_z</th>\n",
       "      <td>0.002909</td>\n",
       "      <td>-0.017744</td>\n",
       "      <td>0.007346</td>\n",
       "      <td>0.009202</td>\n",
       "      <td>-0.005362</td>\n",
       "      <td>-0.002129</td>\n",
       "      <td>-0.026305</td>\n",
       "      <td>1.000000</td>\n",
       "      <td>0.014570</td>\n",
       "      <td>0.007451</td>\n",
       "      <td>0.001477</td>\n",
       "    </tr>\n",
       "    <tr>\n",
       "      <th>second</th>\n",
       "      <td>0.001258</td>\n",
       "      <td>0.002727</td>\n",
       "      <td>-0.000444</td>\n",
       "      <td>0.006165</td>\n",
       "      <td>0.001114</td>\n",
       "      <td>-0.017067</td>\n",
       "      <td>0.001036</td>\n",
       "      <td>0.014570</td>\n",
       "      <td>1.000000</td>\n",
       "      <td>-0.004278</td>\n",
       "      <td>-0.005410</td>\n",
       "    </tr>\n",
       "    <tr>\n",
       "      <th>Speed</th>\n",
       "      <td>-0.042222</td>\n",
       "      <td>0.114007</td>\n",
       "      <td>0.005519</td>\n",
       "      <td>-0.003668</td>\n",
       "      <td>-0.014707</td>\n",
       "      <td>-0.014603</td>\n",
       "      <td>0.007790</td>\n",
       "      <td>0.007451</td>\n",
       "      <td>-0.004278</td>\n",
       "      <td>1.000000</td>\n",
       "      <td>-0.072966</td>\n",
       "    </tr>\n",
       "    <tr>\n",
       "      <th>label</th>\n",
       "      <td>0.006292</td>\n",
       "      <td>-0.023058</td>\n",
       "      <td>-0.005662</td>\n",
       "      <td>-0.006896</td>\n",
       "      <td>0.033185</td>\n",
       "      <td>0.018658</td>\n",
       "      <td>-0.003615</td>\n",
       "      <td>0.001477</td>\n",
       "      <td>-0.005410</td>\n",
       "      <td>-0.072966</td>\n",
       "      <td>1.000000</td>\n",
       "    </tr>\n",
       "  </tbody>\n",
       "</table>\n",
       "</div>"
      ],
      "text/plain": [
       "                Accuracy   Bearing  acceleration_x  acceleration_y  \\\n",
       "Accuracy        1.000000  0.001813       -0.005855       -0.202641   \n",
       "Bearing         0.001813  1.000000       -0.002346       -0.115312   \n",
       "acceleration_x -0.005855 -0.002346        1.000000        0.068627   \n",
       "acceleration_y -0.202641 -0.115312        0.068627        1.000000   \n",
       "acceleration_z -0.124867 -0.079200        0.017269        0.397860   \n",
       "gyro_x         -0.028799 -0.004892       -0.004121        0.147207   \n",
       "gyro_y          0.004703 -0.005136        0.001024       -0.011017   \n",
       "gyro_z          0.002909 -0.017744        0.007346        0.009202   \n",
       "second          0.001258  0.002727       -0.000444        0.006165   \n",
       "Speed          -0.042222  0.114007        0.005519       -0.003668   \n",
       "label           0.006292 -0.023058       -0.005662       -0.006896   \n",
       "\n",
       "                acceleration_z    gyro_x    gyro_y    gyro_z    second  \\\n",
       "Accuracy             -0.124867 -0.028799  0.004703  0.002909  0.001258   \n",
       "Bearing              -0.079200 -0.004892 -0.005136 -0.017744  0.002727   \n",
       "acceleration_x        0.017269 -0.004121  0.001024  0.007346 -0.000444   \n",
       "acceleration_y        0.397860  0.147207 -0.011017  0.009202  0.006165   \n",
       "acceleration_z        1.000000  0.100788 -0.014717 -0.005362  0.001114   \n",
       "gyro_x                0.100788  1.000000  0.075257 -0.002129 -0.017067   \n",
       "gyro_y               -0.014717  0.075257  1.000000 -0.026305  0.001036   \n",
       "gyro_z               -0.005362 -0.002129 -0.026305  1.000000  0.014570   \n",
       "second                0.001114 -0.017067  0.001036  0.014570  1.000000   \n",
       "Speed                -0.014707 -0.014603  0.007790  0.007451 -0.004278   \n",
       "label                 0.033185  0.018658 -0.003615  0.001477 -0.005410   \n",
       "\n",
       "                   Speed     label  \n",
       "Accuracy       -0.042222  0.006292  \n",
       "Bearing         0.114007 -0.023058  \n",
       "acceleration_x  0.005519 -0.005662  \n",
       "acceleration_y -0.003668 -0.006896  \n",
       "acceleration_z -0.014707  0.033185  \n",
       "gyro_x         -0.014603  0.018658  \n",
       "gyro_y          0.007790 -0.003615  \n",
       "gyro_z          0.007451  0.001477  \n",
       "second         -0.004278 -0.005410  \n",
       "Speed           1.000000 -0.072966  \n",
       "label          -0.072966  1.000000  "
      ]
     },
     "execution_count": 125,
     "metadata": {},
     "output_type": "execute_result"
    }
   ],
   "source": [
    "df_aggregate_mean.corr()"
   ]
  },
  {
   "cell_type": "code",
   "execution_count": 124,
   "metadata": {},
   "outputs": [
    {
     "data": {
      "text/plain": [
       "<matplotlib.axes._subplots.AxesSubplot at 0x1f999972e80>"
      ]
     },
     "execution_count": 124,
     "metadata": {},
     "output_type": "execute_result"
    },
    {
     "data": {
      "image/png": "[encoded data removed]",
      "text/plain": [
       "<Figure size 432x288 with 2 Axes>"
      ]
     },
     "metadata": {
      "needs_background": "light"
     },
     "output_type": "display_data"
    }
   ],
   "source": [
    "sns.heatmap(df_aggregate_mean.corr())"
   ]
  },
  {
   "cell_type": "markdown",
   "metadata": {},
   "source": [
    "### There is no clear correlation yet"
   ]
  },
  {
   "cell_type": "markdown",
   "metadata": {},
   "source": [
    "# Training the model"
   ]
  },
  {
   "cell_type": "code",
   "execution_count": 145,
   "metadata": {},
   "outputs": [
    {
     "data": {
      "text/plain": [
       "Accuracy          float64\n",
       "Bearing           float64\n",
       "acceleration_x    float64\n",
       "acceleration_y    float64\n",
       "acceleration_z    float64\n",
       "gyro_x            float64\n",
       "gyro_y            float64\n",
       "gyro_z            float64\n",
       "second            float64\n",
       "Speed             float64\n",
       "label              object\n",
       "dtype: object"
      ]
     },
     "execution_count": 145,
     "metadata": {},
     "output_type": "execute_result"
    }
   ],
   "source": [
    "df_aggregate_mean.dtypes"
   ]
  },
  {
   "cell_type": "code",
   "execution_count": 146,
   "metadata": {},
   "outputs": [],
   "source": [
    "df_aggregate_mean['label'] =df_aggregate_mean['label'].astype(int) "
   ]
  },
  {
   "cell_type": "code",
   "execution_count": 147,
   "metadata": {},
   "outputs": [],
   "source": [
    "import numpy as np\n",
    "from sklearn import preprocessing,neighbors,svm\n",
    "from sklearn.model_selection import train_test_split\n",
    "\n",
    "#dropping left and sales X for the df, y for the left\n",
    "X = df_aggregate_mean.drop(['label'],axis=1)\n",
    "y = df_aggregate_mean['label']\n",
    "\n",
    "#splitting the train and test sets\n",
    "X_train, X_test, y_train,y_test= train_test_split(X,y,test_size=0.2)"
   ]
  },
  {
   "cell_type": "code",
   "execution_count": 148,
   "metadata": {},
   "outputs": [
    {
     "name": "stderr",
     "output_type": "stream",
     "text": [
      "C:\\new_software\\Anaconda\\lib\\site-packages\\sklearn\\svm\\base.py:196: FutureWarning: The default value of gamma will change from 'auto' to 'scale' in version 0.22 to account better for unscaled features. Set gamma explicitly to 'auto' or 'scale' to avoid this warning.\n",
      "  \"avoid this warning.\", FutureWarning)\n"
     ]
    },
    {
     "data": {
      "text/plain": [
       "SVC(C=1.0, cache_size=200, class_weight=None, coef0=0.0,\n",
       "  decision_function_shape='ovr', degree=3, gamma='auto_deprecated',\n",
       "  kernel='rbf', max_iter=-1, probability=False, random_state=None,\n",
       "  shrinking=True, tol=0.001, verbose=False)"
      ]
     },
     "execution_count": 148,
     "metadata": {},
     "output_type": "execute_result"
    }
   ],
   "source": [
    "# initiate svm object\n",
    "clfsvm = svm.SVC()\n",
    "# Fit the svm object with train data\n",
    "clfsvm.fit(X_train,y_train)"
   ]
  },
  {
   "cell_type": "code",
   "execution_count": 149,
   "metadata": {},
   "outputs": [
    {
     "data": {
      "text/plain": [
       "0.7475"
      ]
     },
     "execution_count": 149,
     "metadata": {},
     "output_type": "execute_result"
    }
   ],
   "source": [
    "# Find the accuracy through the scoring process\n",
    "accuracy = clfsvm.score(X_test,y_test)\n",
    "accuracy"
   ]
  },
  {
   "cell_type": "code",
   "execution_count": 150,
   "metadata": {},
   "outputs": [
    {
     "data": {
      "text/html": [
       "<div>\n",
       "<style scoped>\n",
       "    .dataframe tbody tr th:only-of-type {\n",
       "        vertical-align: middle;\n",
       "    }\n",
       "\n",
       "    .dataframe tbody tr th {\n",
       "        vertical-align: top;\n",
       "    }\n",
       "\n",
       "    .dataframe thead th {\n",
       "        text-align: right;\n",
       "    }\n",
       "</style>\n",
       "<table border=\"1\" class=\"dataframe\">\n",
       "  <thead>\n",
       "    <tr style=\"text-align: right;\">\n",
       "      <th></th>\n",
       "      <th>ytest</th>\n",
       "    </tr>\n",
       "    <tr>\n",
       "      <th>label</th>\n",
       "      <th></th>\n",
       "    </tr>\n",
       "  </thead>\n",
       "  <tbody>\n",
       "    <tr>\n",
       "      <th>1</th>\n",
       "      <td>0</td>\n",
       "    </tr>\n",
       "    <tr>\n",
       "      <th>0</th>\n",
       "      <td>0</td>\n",
       "    </tr>\n",
       "    <tr>\n",
       "      <th>0</th>\n",
       "      <td>0</td>\n",
       "    </tr>\n",
       "    <tr>\n",
       "      <th>0</th>\n",
       "      <td>0</td>\n",
       "    </tr>\n",
       "    <tr>\n",
       "      <th>0</th>\n",
       "      <td>0</td>\n",
       "    </tr>\n",
       "  </tbody>\n",
       "</table>\n",
       "</div>"
      ],
      "text/plain": [
       "       ytest\n",
       "label       \n",
       "1          0\n",
       "0          0\n",
       "0          0\n",
       "0          0\n",
       "0          0"
      ]
     },
     "execution_count": 150,
     "metadata": {},
     "output_type": "execute_result"
    }
   ],
   "source": [
    "pd.DataFrame(clfsvm.predict(X_test),y_test,columns=['ytest']).head()"
   ]
  },
  {
   "cell_type": "markdown",
   "metadata": {},
   "source": [
    "### Analysis\n",
    "SVM is very useful to classify observations with important predictiors and accuracy of 0.7475. This could be further improved"
   ]
  },
  {
   "cell_type": "markdown",
   "metadata": {},
   "source": [
    "# Training Multiple Classifiers and Test Them\n",
    "Log loss https://www.r-bloggers.com/making-sense-of-logarithmic-loss/"
   ]
  },
  {
   "cell_type": "code",
   "execution_count": 151,
   "metadata": {},
   "outputs": [
    {
     "name": "stdout",
     "output_type": "stream",
     "text": [
      "==============================\n",
      "KNeighborsClassifier\n",
      "****Results****\n",
      "Accuracy: 72.3750%\n",
      "Log Loss: 3.913498343347398\n"
     ]
    },
    {
     "name": "stderr",
     "output_type": "stream",
     "text": [
      "C:\\new_software\\Anaconda\\lib\\site-packages\\sklearn\\svm\\base.py:196: FutureWarning: The default value of gamma will change from 'auto' to 'scale' in version 0.22 to account better for unscaled features. Set gamma explicitly to 'auto' or 'scale' to avoid this warning.\n",
      "  \"avoid this warning.\", FutureWarning)\n"
     ]
    },
    {
     "name": "stdout",
     "output_type": "stream",
     "text": [
      "==============================\n",
      "SVC\n",
      "****Results****\n",
      "Accuracy: 74.9750%\n",
      "Log Loss: 0.5617863602317891\n",
      "==============================\n",
      "DecisionTreeClassifier\n",
      "****Results****\n",
      "Accuracy: 66.0750%\n",
      "Log Loss: 11.71727989197345\n"
     ]
    },
    {
     "name": "stderr",
     "output_type": "stream",
     "text": [
      "C:\\new_software\\Anaconda\\lib\\site-packages\\sklearn\\ensemble\\forest.py:246: FutureWarning: The default value of n_estimators will change from 10 in version 0.20 to 100 in 0.22.\n",
      "  \"10 in version 0.20 to 100 in 0.22.\", FutureWarning)\n"
     ]
    },
    {
     "name": "stdout",
     "output_type": "stream",
     "text": [
      "==============================\n",
      "RandomForestClassifier\n",
      "****Results****\n",
      "Accuracy: 75.8250%\n",
      "Log Loss: 1.1195985748903519\n",
      "==============================\n",
      "AdaBoostClassifier\n",
      "****Results****\n",
      "Accuracy: 77.2000%\n",
      "Log Loss: 0.6810527058373123\n",
      "==============================\n",
      "GradientBoostingClassifier\n",
      "****Results****\n",
      "Accuracy: 77.0250%\n",
      "Log Loss: 0.4992438419036804\n",
      "==============================\n",
      "GaussianNB\n",
      "****Results****\n",
      "Accuracy: 24.9250%\n",
      "Log Loss: 3.3826383757489293\n",
      "==============================\n",
      "LinearDiscriminantAnalysis\n",
      "****Results****\n",
      "Accuracy: 74.9500%\n",
      "Log Loss: 0.5596795423806196\n",
      "==============================\n",
      "QuadraticDiscriminantAnalysis\n",
      "****Results****\n",
      "Accuracy: 27.5250%\n",
      "Log Loss: 2.005198292639373\n",
      "==============================\n"
     ]
    }
   ],
   "source": [
    "from sklearn.metrics import accuracy_score, log_loss\n",
    "from sklearn.neighbors import KNeighborsClassifier\n",
    "from sklearn.svm import SVC, LinearSVC, NuSVC\n",
    "from sklearn.tree import DecisionTreeClassifier\n",
    "from sklearn.ensemble import RandomForestClassifier, AdaBoostClassifier, GradientBoostingClassifier\n",
    "from sklearn.naive_bayes import GaussianNB\n",
    "from sklearn.discriminant_analysis import LinearDiscriminantAnalysis\n",
    "from sklearn.discriminant_analysis import QuadraticDiscriminantAnalysis\n",
    "\n",
    "classifiers = [\n",
    "    KNeighborsClassifier(3),\n",
    "    SVC(kernel=\"rbf\", C=0.025, probability=True),\n",
    "    DecisionTreeClassifier(),\n",
    "    RandomForestClassifier(),\n",
    "    AdaBoostClassifier(),\n",
    "    GradientBoostingClassifier(),\n",
    "    GaussianNB(),\n",
    "    LinearDiscriminantAnalysis(),\n",
    "    QuadraticDiscriminantAnalysis()]\n",
    "\n",
    "# Logging for Visual Comparison\n",
    "log_cols=[\"Classifier\", \"Accuracy\", \"Log Loss\"]\n",
    "log = pd.DataFrame(columns=log_cols)\n",
    "\n",
    "for clf in classifiers:\n",
    "    clf.fit(X_train, y_train)\n",
    "    name = clf.__class__.__name__\n",
    "    \n",
    "    print(\"=\"*30)\n",
    "    print(name)\n",
    "    \n",
    "    print('****Results****')\n",
    "    train_predictions = clf.predict(X_test)\n",
    "    acc = accuracy_score(y_test, train_predictions)\n",
    "    print(\"Accuracy: {:.4%}\".format(acc))\n",
    "    \n",
    "    train_predictions = clf.predict_proba(X_test)\n",
    "    ll = log_loss(y_test, train_predictions)\n",
    "    print(\"Log Loss: {}\".format(ll))\n",
    "    \n",
    "    log_entry = pd.DataFrame([[name, acc*100, ll]], columns=log_cols)\n",
    "    log = log.append(log_entry)\n",
    "    \n",
    "print(\"=\"*30)"
   ]
  },
  {
   "cell_type": "code",
   "execution_count": 152,
   "metadata": {},
   "outputs": [
    {
     "data": {
      "image/png": "[encoded data removed]",
      "text/plain": [
       "<Figure size 432x288 with 1 Axes>"
      ]
     },
     "metadata": {
      "needs_background": "light"
     },
     "output_type": "display_data"
    },
    {
     "data": {
      "image/png": "[encoded data removed]",
      "text/plain": [
       "<Figure size 432x288 with 1 Axes>"
      ]
     },
     "metadata": {
      "needs_background": "light"
     },
     "output_type": "display_data"
    }
   ],
   "source": [
    "sns.set_color_codes(\"muted\")\n",
    "sns.barplot(x='Accuracy', y='Classifier', data=log, color=\"b\")\n",
    "\n",
    "plt.xlabel('Accuracy %')\n",
    "plt.title('Classifier Accuracy')\n",
    "plt.show()\n",
    "\n",
    "sns.set_color_codes(\"muted\")\n",
    "sns.barplot(x='Log Loss', y='Classifier', data=log, color=\"g\")\n",
    "\n",
    "plt.xlabel('Log Loss')\n",
    "plt.title('Classifier Log Loss')\n",
    "plt.show()"
   ]
  },
  {
   "cell_type": "markdown",
   "metadata": {},
   "source": [
    "### In here we found out that Gradien Boosting Classifier produces good enough predictions : 75%"
   ]
  },
  {
   "cell_type": "code",
   "execution_count": 154,
   "metadata": {},
   "outputs": [],
   "source": [
    "# Predict Test Set\n",
    "favorite_clf = GradientBoostingClassifier()\n",
    "favorite_clf.fit(X_train, y_train)\n",
    "submission = pd.DataFrame(favorite_clf.predict(X_test),index=X_test.index,columns=['Prediction'])"
   ]
  },
  {
   "cell_type": "code",
   "execution_count": 163,
   "metadata": {},
   "outputs": [
    {
     "name": "stdout",
     "output_type": "stream",
     "text": [
      "Accuracy: 74.7500%\n",
      "(4000, 12)\n"
     ]
    },
    {
     "data": {
      "text/plain": [
       "0    3738\n",
       "1     262\n",
       "Name: Prediction, dtype: int64"
      ]
     },
     "execution_count": 163,
     "metadata": {},
     "output_type": "execute_result"
    }
   ],
   "source": [
    "# See the prediction result\n",
    "result = pd.concat([X_test, y_test,submission], axis=1)\n",
    "# Find the accuracy through the scoring process\n",
    "accuracy = clfsvm.score(X_test,y_test)\n",
    "print(\"Accuracy: {:.4%}\".format(accuracy))\n",
    "\n",
    "# result\n",
    "print(result.shape)\n",
    "result.Prediction.value_counts()"
   ]
  },
  {
   "cell_type": "markdown",
   "metadata": {},
   "source": [
    "### In the end we found that our predictions produces 3738 safety driving and 262 reckless driving with accuracy of 74.75%"
   ]
  },
  {
   "cell_type": "markdown",
   "metadata": {},
   "source": [
    "# Producing Further Model Evaluations"
   ]
  },
  {
   "cell_type": "code",
   "execution_count": 173,
   "metadata": {},
   "outputs": [
    {
     "name": "stdout",
     "output_type": "stream",
     "text": [
      "classification accuracy:  0.77025\n",
      "null accuracy:  0.74975\n"
     ]
    }
   ],
   "source": [
    "from sklearn import metrics\n",
    "\n",
    "# calculate null accuracy (for multi-class classification problems)\n",
    "print('classification accuracy: ',metrics.accuracy_score(y_test, submission))\n",
    "print('null accuracy: ',y_test.value_counts().head(1).values[0] / len(y_test))"
   ]
  },
  {
   "cell_type": "code",
   "execution_count": 180,
   "metadata": {},
   "outputs": [
    {
     "name": "stdout",
     "output_type": "stream",
     "text": [
      "Confusion Matrix\n",
      "[[2909   90]\n",
      " [ 829  172]]\n"
     ]
    }
   ],
   "source": [
    "print('Confusion Matrix')\n",
    "print(metrics.confusion_matrix(y_test, submission))"
   ]
  },
  {
   "cell_type": "markdown",
   "metadata": {},
   "source": [
    "# ROC Curves and  Area Under Curve (AUC)\n",
    "\n",
    "Managing sensitivity and specificity by several thresholds"
   ]
  },
  {
   "cell_type": "code",
   "execution_count": 181,
   "metadata": {},
   "outputs": [
    {
     "data": {
      "image/png": "[encoded data removed]",
      "text/plain": [
       "<Figure size 432x288 with 1 Axes>"
      ]
     },
     "metadata": {
      "needs_background": "light"
     },
     "output_type": "display_data"
    }
   ],
   "source": [
    "# IMPORTANT: first argument is true values, second argument is predicted probabilities\n",
    "fpr, tpr, thresholds = metrics.roc_curve(y_test, submission)\n",
    "plt.plot(fpr, tpr)\n",
    "plt.xlim([0.0, 1.0])\n",
    "plt.ylim([0.0, 1.0])\n",
    "plt.title('ROC curve for diabetes classifier')\n",
    "plt.xlabel('False Positive Rate (1 - Specificity)')\n",
    "plt.ylabel('True Positive Rate (Sensitivity)')\n",
    "plt.grid(True)"
   ]
  },
  {
   "cell_type": "code",
   "execution_count": 182,
   "metadata": {},
   "outputs": [],
   "source": [
    "# define a function that accepts a threshold and prints sensitivity and specificity\n",
    "def evaluate_threshold(threshold):\n",
    "    print('Sensitivity:', tpr[thresholds > threshold][-1])\n",
    "    print('Specificity:', 1 - fpr[thresholds > threshold][-1])"
   ]
  },
  {
   "cell_type": "code",
   "execution_count": 188,
   "metadata": {},
   "outputs": [
    {
     "name": "stdout",
     "output_type": "stream",
     "text": [
      "Sensitivity: 0.17182817182817184\n",
      "Specificity: 0.9699899966655552\n"
     ]
    }
   ],
   "source": [
    "evaluate_threshold(0.5)"
   ]
  },
  {
   "cell_type": "code",
   "execution_count": 193,
   "metadata": {},
   "outputs": [
    {
     "name": "stdout",
     "output_type": "stream",
     "text": [
      "Sensitivity: 0.0\n",
      "Specificity: 1.0\n"
     ]
    }
   ],
   "source": [
    "evaluate_threshold(1)"
   ]
  },
  {
   "cell_type": "code",
   "execution_count": 194,
   "metadata": {},
   "outputs": [
    {
     "name": "stdout",
     "output_type": "stream",
     "text": [
      "0.5709090842468635\n"
     ]
    }
   ],
   "source": [
    "print(metrics.roc_auc_score(y_test, submission))"
   ]
  }
 ],
 "metadata": {
  "kernelspec": {
   "display_name": "Python 3",
   "language": "python",
   "name": "python3"
  },
  "language_info": {
   "codemirror_mode": {
    "name": "ipython",
    "version": 3
   },
   "file_extension": ".py",
   "mimetype": "text/x-python",
   "name": "python",
   "nbconvert_exporter": "python",
   "pygments_lexer": "ipython3",
   "version": "3.7.1"
  }
 },
 "nbformat": 4,
 "nbformat_minor": 2
}
