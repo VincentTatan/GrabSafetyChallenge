{
 "cells": [
  {
   "cell_type": "markdown",
   "metadata": {},
   "source": [
    "# Grab Data Safety Challenge \n",
    "\n",
    "Objectives: To determine if a certain drive is a safe drive or reckless drive\n",
    "How to know:\n",
    "    1. From the acceleration at the certain point\n",
    "    2. From the Location and any other geolocation behavior"
   ]
  },
  {
   "cell_type": "code",
   "execution_count": 30,
   "metadata": {},
   "outputs": [],
   "source": [
    "import numpy as np # linear algebra\n",
    "import pandas as pd # data processing, CSV file I/O (e.g. pd.read_csv)\n",
    "import json\n",
    "import pprint\n",
    "\n",
    "import os, math\n",
    "\n",
    "features_list_files = [f for f in os.listdir('./features') if not f.startswith('.')]\n",
    "labels_list_files = [f for f in os.listdir('./labels') if not f.startswith('.')]"
   ]
  },
  {
   "cell_type": "code",
   "execution_count": 31,
   "metadata": {},
   "outputs": [
    {
     "name": "stdout",
     "output_type": "stream",
     "text": [
      "['part-00000-e6120af0-10c2-4248-97c4-81baf4304e5c-c000.csv', 'part-00001-e6120af0-10c2-4248-97c4-81baf4304e5c-c000.csv', 'part-00002-e6120af0-10c2-4248-97c4-81baf4304e5c-c000.csv', 'part-00003-e6120af0-10c2-4248-97c4-81baf4304e5c-c000.csv', 'part-00004-e6120af0-10c2-4248-97c4-81baf4304e5c-c000.csv', 'part-00005-e6120af0-10c2-4248-97c4-81baf4304e5c-c000.csv', 'part-00006-e6120af0-10c2-4248-97c4-81baf4304e5c-c000.csv', 'part-00007-e6120af0-10c2-4248-97c4-81baf4304e5c-c000.csv', 'part-00008-e6120af0-10c2-4248-97c4-81baf4304e5c-c000.csv', 'part-00009-e6120af0-10c2-4248-97c4-81baf4304e5c-c000.csv']\n",
      "['part-00000-e9445087-aa0a-433b-a7f6-7f4c19d78ad6-c000.csv']\n"
     ]
    }
   ],
   "source": [
    "print(features_list_files)\n",
    "print(labels_list_files)"
   ]
  },
  {
   "cell_type": "markdown",
   "metadata": {},
   "source": [
    "# Extractions of csv and stitchings"
   ]
  },
  {
   "cell_type": "code",
   "execution_count": 41,
   "metadata": {},
   "outputs": [],
   "source": [
    "def generateDf(filename,folder):\n",
    "    drive_path = './'+folder+'/' + filename\n",
    "    df_category = pd.read_csv(drive_path)\n",
    "    return df_category"
   ]
  },
  {
   "cell_type": "code",
   "execution_count": 52,
   "metadata": {},
   "outputs": [],
   "source": [
    "def generateSafetyDf(filenames):\n",
    "    df_safety= pd.DataFrame(columns=['bookingID', 'Accuracy', 'Bearing', 'acceleration_x', 'acceleration_y',\n",
    "       'acceleration_z', 'gyro_x', 'gyro_y', 'gyro_z', 'second', 'Speed'])\n",
    "    for filename in filenames:\n",
    "        df_safety = pd.concat([df_safety,generateDf(filename,'features')])\n",
    "    return df_safety\n",
    "        "
   ]
  },
  {
   "cell_type": "code",
   "execution_count": 55,
   "metadata": {
    "scrolled": true
   },
   "outputs": [],
   "source": [
    "df_safety = generateSafetyDf(features_list_files)\n",
    "df_label = generateDf(labels_list_files[0],'labels')"
   ]
  },
  {
   "cell_type": "code",
   "execution_count": 79,
   "metadata": {},
   "outputs": [],
   "source": [
    "df_label['bookingID'] = df_label['bookingID'].astype(object)"
   ]
  },
  {
   "cell_type": "code",
   "execution_count": 80,
   "metadata": {},
   "outputs": [
    {
     "name": "stdout",
     "output_type": "stream",
     "text": [
      "177491171\n",
      "40036\n"
     ]
    }
   ],
   "source": [
    "print(df_safety.size)\n",
    "print(df_label.size)"
   ]
  },
  {
   "cell_type": "code",
   "execution_count": 81,
   "metadata": {},
   "outputs": [
    {
     "data": {
      "text/html": [
       "<div>\n",
       "<style scoped>\n",
       "    .dataframe tbody tr th:only-of-type {\n",
       "        vertical-align: middle;\n",
       "    }\n",
       "\n",
       "    .dataframe tbody tr th {\n",
       "        vertical-align: top;\n",
       "    }\n",
       "\n",
       "    .dataframe thead th {\n",
       "        text-align: right;\n",
       "    }\n",
       "</style>\n",
       "<table border=\"1\" class=\"dataframe\">\n",
       "  <thead>\n",
       "    <tr style=\"text-align: right;\">\n",
       "      <th></th>\n",
       "      <th>bookingID</th>\n",
       "      <th>Accuracy</th>\n",
       "      <th>Bearing</th>\n",
       "      <th>acceleration_x</th>\n",
       "      <th>acceleration_y</th>\n",
       "      <th>acceleration_z</th>\n",
       "      <th>gyro_x</th>\n",
       "      <th>gyro_y</th>\n",
       "      <th>gyro_z</th>\n",
       "      <th>second</th>\n",
       "      <th>Speed</th>\n",
       "    </tr>\n",
       "  </thead>\n",
       "  <tbody>\n",
       "    <tr>\n",
       "      <th>0</th>\n",
       "      <td>1202590843006</td>\n",
       "      <td>3.000</td>\n",
       "      <td>353.0</td>\n",
       "      <td>1.228867</td>\n",
       "      <td>8.900100</td>\n",
       "      <td>3.986968</td>\n",
       "      <td>0.008221</td>\n",
       "      <td>0.002269</td>\n",
       "      <td>-0.009966</td>\n",
       "      <td>1362.0</td>\n",
       "      <td>0.000000</td>\n",
       "    </tr>\n",
       "    <tr>\n",
       "      <th>1</th>\n",
       "      <td>274877907034</td>\n",
       "      <td>9.293</td>\n",
       "      <td>17.0</td>\n",
       "      <td>0.032775</td>\n",
       "      <td>8.659933</td>\n",
       "      <td>4.737300</td>\n",
       "      <td>0.024629</td>\n",
       "      <td>0.004028</td>\n",
       "      <td>-0.010858</td>\n",
       "      <td>257.0</td>\n",
       "      <td>0.190000</td>\n",
       "    </tr>\n",
       "    <tr>\n",
       "      <th>2</th>\n",
       "      <td>884763263056</td>\n",
       "      <td>3.000</td>\n",
       "      <td>189.0</td>\n",
       "      <td>1.139675</td>\n",
       "      <td>9.545974</td>\n",
       "      <td>1.951334</td>\n",
       "      <td>-0.006899</td>\n",
       "      <td>-0.015080</td>\n",
       "      <td>0.001122</td>\n",
       "      <td>973.0</td>\n",
       "      <td>0.667059</td>\n",
       "    </tr>\n",
       "    <tr>\n",
       "      <th>3</th>\n",
       "      <td>1073741824054</td>\n",
       "      <td>3.900</td>\n",
       "      <td>126.0</td>\n",
       "      <td>3.871543</td>\n",
       "      <td>10.386364</td>\n",
       "      <td>-0.136474</td>\n",
       "      <td>0.001344</td>\n",
       "      <td>-0.339601</td>\n",
       "      <td>-0.017956</td>\n",
       "      <td>902.0</td>\n",
       "      <td>7.913285</td>\n",
       "    </tr>\n",
       "    <tr>\n",
       "      <th>4</th>\n",
       "      <td>1056561954943</td>\n",
       "      <td>3.900</td>\n",
       "      <td>50.0</td>\n",
       "      <td>-0.112882</td>\n",
       "      <td>10.550960</td>\n",
       "      <td>-1.560110</td>\n",
       "      <td>0.130568</td>\n",
       "      <td>-0.061697</td>\n",
       "      <td>0.161530</td>\n",
       "      <td>820.0</td>\n",
       "      <td>20.419409</td>\n",
       "    </tr>\n",
       "  </tbody>\n",
       "</table>\n",
       "</div>"
      ],
      "text/plain": [
       "       bookingID  Accuracy  Bearing  acceleration_x  acceleration_y  \\\n",
       "0  1202590843006     3.000    353.0        1.228867        8.900100   \n",
       "1   274877907034     9.293     17.0        0.032775        8.659933   \n",
       "2   884763263056     3.000    189.0        1.139675        9.545974   \n",
       "3  1073741824054     3.900    126.0        3.871543       10.386364   \n",
       "4  1056561954943     3.900     50.0       -0.112882       10.550960   \n",
       "\n",
       "   acceleration_z    gyro_x    gyro_y    gyro_z  second      Speed  \n",
       "0        3.986968  0.008221  0.002269 -0.009966  1362.0   0.000000  \n",
       "1        4.737300  0.024629  0.004028 -0.010858   257.0   0.190000  \n",
       "2        1.951334 -0.006899 -0.015080  0.001122   973.0   0.667059  \n",
       "3       -0.136474  0.001344 -0.339601 -0.017956   902.0   7.913285  \n",
       "4       -1.560110  0.130568 -0.061697  0.161530   820.0  20.419409  "
      ]
     },
     "execution_count": 81,
     "metadata": {},
     "output_type": "execute_result"
    }
   ],
   "source": [
    "df_safety.head()"
   ]
  },
  {
   "cell_type": "code",
   "execution_count": 82,
   "metadata": {},
   "outputs": [
    {
     "data": {
      "text/html": [
       "<div>\n",
       "<style scoped>\n",
       "    .dataframe tbody tr th:only-of-type {\n",
       "        vertical-align: middle;\n",
       "    }\n",
       "\n",
       "    .dataframe tbody tr th {\n",
       "        vertical-align: top;\n",
       "    }\n",
       "\n",
       "    .dataframe thead th {\n",
       "        text-align: right;\n",
       "    }\n",
       "</style>\n",
       "<table border=\"1\" class=\"dataframe\">\n",
       "  <thead>\n",
       "    <tr style=\"text-align: right;\">\n",
       "      <th></th>\n",
       "      <th>bookingID</th>\n",
       "      <th>label</th>\n",
       "    </tr>\n",
       "  </thead>\n",
       "  <tbody>\n",
       "    <tr>\n",
       "      <th>0</th>\n",
       "      <td>111669149733</td>\n",
       "      <td>0</td>\n",
       "    </tr>\n",
       "    <tr>\n",
       "      <th>1</th>\n",
       "      <td>335007449205</td>\n",
       "      <td>1</td>\n",
       "    </tr>\n",
       "    <tr>\n",
       "      <th>2</th>\n",
       "      <td>171798691856</td>\n",
       "      <td>0</td>\n",
       "    </tr>\n",
       "    <tr>\n",
       "      <th>3</th>\n",
       "      <td>1520418422900</td>\n",
       "      <td>0</td>\n",
       "    </tr>\n",
       "    <tr>\n",
       "      <th>4</th>\n",
       "      <td>798863917116</td>\n",
       "      <td>0</td>\n",
       "    </tr>\n",
       "  </tbody>\n",
       "</table>\n",
       "</div>"
      ],
      "text/plain": [
       "       bookingID  label\n",
       "0   111669149733      0\n",
       "1   335007449205      1\n",
       "2   171798691856      0\n",
       "3  1520418422900      0\n",
       "4   798863917116      0"
      ]
     },
     "execution_count": 82,
     "metadata": {},
     "output_type": "execute_result"
    }
   ],
   "source": [
    "df_label.head()"
   ]
  },
  {
   "cell_type": "code",
   "execution_count": 83,
   "metadata": {},
   "outputs": [],
   "source": [
    "df_merge = pd.merge(df_safety,df_label,on='bookingID')"
   ]
  },
  {
   "cell_type": "code",
   "execution_count": 84,
   "metadata": {},
   "outputs": [
    {
     "data": {
      "text/html": [
       "<div>\n",
       "<style scoped>\n",
       "    .dataframe tbody tr th:only-of-type {\n",
       "        vertical-align: middle;\n",
       "    }\n",
       "\n",
       "    .dataframe tbody tr th {\n",
       "        vertical-align: top;\n",
       "    }\n",
       "\n",
       "    .dataframe thead th {\n",
       "        text-align: right;\n",
       "    }\n",
       "</style>\n",
       "<table border=\"1\" class=\"dataframe\">\n",
       "  <thead>\n",
       "    <tr style=\"text-align: right;\">\n",
       "      <th></th>\n",
       "      <th>bookingID</th>\n",
       "      <th>Accuracy</th>\n",
       "      <th>Bearing</th>\n",
       "      <th>acceleration_x</th>\n",
       "      <th>acceleration_y</th>\n",
       "      <th>acceleration_z</th>\n",
       "      <th>gyro_x</th>\n",
       "      <th>gyro_y</th>\n",
       "      <th>gyro_z</th>\n",
       "      <th>second</th>\n",
       "      <th>Speed</th>\n",
       "      <th>label</th>\n",
       "    </tr>\n",
       "  </thead>\n",
       "  <tbody>\n",
       "    <tr>\n",
       "      <th>0</th>\n",
       "      <td>1202590843006</td>\n",
       "      <td>3.000</td>\n",
       "      <td>353.0</td>\n",
       "      <td>1.228867</td>\n",
       "      <td>8.900100</td>\n",
       "      <td>3.986968</td>\n",
       "      <td>0.008221</td>\n",
       "      <td>0.002269</td>\n",
       "      <td>-0.009966</td>\n",
       "      <td>1362.0</td>\n",
       "      <td>0.000000</td>\n",
       "      <td>1</td>\n",
       "    </tr>\n",
       "    <tr>\n",
       "      <th>1</th>\n",
       "      <td>1202590843006</td>\n",
       "      <td>3.033</td>\n",
       "      <td>77.0</td>\n",
       "      <td>1.137217</td>\n",
       "      <td>8.975278</td>\n",
       "      <td>3.981050</td>\n",
       "      <td>0.021118</td>\n",
       "      <td>-0.022515</td>\n",
       "      <td>0.024522</td>\n",
       "      <td>541.0</td>\n",
       "      <td>0.000000</td>\n",
       "      <td>1</td>\n",
       "    </tr>\n",
       "    <tr>\n",
       "      <th>2</th>\n",
       "      <td>1202590843006</td>\n",
       "      <td>6.173</td>\n",
       "      <td>283.0</td>\n",
       "      <td>1.522818</td>\n",
       "      <td>7.947064</td>\n",
       "      <td>5.075056</td>\n",
       "      <td>0.137567</td>\n",
       "      <td>-0.297055</td>\n",
       "      <td>-0.017418</td>\n",
       "      <td>154.0</td>\n",
       "      <td>2.863286</td>\n",
       "      <td>1</td>\n",
       "    </tr>\n",
       "    <tr>\n",
       "      <th>3</th>\n",
       "      <td>1202590843006</td>\n",
       "      <td>3.014</td>\n",
       "      <td>353.0</td>\n",
       "      <td>1.134775</td>\n",
       "      <td>8.932489</td>\n",
       "      <td>3.929421</td>\n",
       "      <td>-0.007959</td>\n",
       "      <td>-0.020543</td>\n",
       "      <td>-0.022986</td>\n",
       "      <td>1384.0</td>\n",
       "      <td>0.000000</td>\n",
       "      <td>1</td>\n",
       "    </tr>\n",
       "    <tr>\n",
       "      <th>4</th>\n",
       "      <td>1202590843006</td>\n",
       "      <td>5.209</td>\n",
       "      <td>340.0</td>\n",
       "      <td>0.858197</td>\n",
       "      <td>9.078037</td>\n",
       "      <td>2.944571</td>\n",
       "      <td>0.061924</td>\n",
       "      <td>0.015219</td>\n",
       "      <td>0.025517</td>\n",
       "      <td>1142.0</td>\n",
       "      <td>9.750134</td>\n",
       "      <td>1</td>\n",
       "    </tr>\n",
       "  </tbody>\n",
       "</table>\n",
       "</div>"
      ],
      "text/plain": [
       "       bookingID  Accuracy  Bearing  acceleration_x  acceleration_y  \\\n",
       "0  1202590843006     3.000    353.0        1.228867        8.900100   \n",
       "1  1202590843006     3.033     77.0        1.137217        8.975278   \n",
       "2  1202590843006     6.173    283.0        1.522818        7.947064   \n",
       "3  1202590843006     3.014    353.0        1.134775        8.932489   \n",
       "4  1202590843006     5.209    340.0        0.858197        9.078037   \n",
       "\n",
       "   acceleration_z    gyro_x    gyro_y    gyro_z  second     Speed  label  \n",
       "0        3.986968  0.008221  0.002269 -0.009966  1362.0  0.000000      1  \n",
       "1        3.981050  0.021118 -0.022515  0.024522   541.0  0.000000      1  \n",
       "2        5.075056  0.137567 -0.297055 -0.017418   154.0  2.863286      1  \n",
       "3        3.929421 -0.007959 -0.020543 -0.022986  1384.0  0.000000      1  \n",
       "4        2.944571  0.061924  0.015219  0.025517  1142.0  9.750134      1  "
      ]
     },
     "execution_count": 84,
     "metadata": {},
     "output_type": "execute_result"
    }
   ],
   "source": [
    "df_merge.head()"
   ]
  },
  {
   "cell_type": "markdown",
   "metadata": {},
   "source": [
    "## Generate Pickle for easy nitpicking of df_merge"
   ]
  },
  {
   "cell_type": "code",
   "execution_count": 85,
   "metadata": {},
   "outputs": [],
   "source": [
    "import pickle\n",
    "\n",
    "with open('df_merge.pickle', 'wb') as f:\n",
    "    pickle.dump(df_merge, f)\n",
    "    \n",
    "with open('df_safety.pickle', 'wb') as f:\n",
    "    pickle.dump(df_safety, f)\n",
    "\n",
    "with open('df_label.pickle', 'wb') as f:\n",
    "    pickle.dump(df_label, f)"
   ]
  },
  {
   "cell_type": "markdown",
   "metadata": {},
   "source": [
    "## Opening Pickles for easy dataframe generation"
   ]
  },
  {
   "cell_type": "code",
   "execution_count": 87,
   "metadata": {},
   "outputs": [],
   "source": [
    "df_merge = pd.read_pickle('df_merge.pickle')\n",
    "df_safety = pd.read_pickle('df_safety.pickle')\n",
    "df_label = pd.read_pickle('df_label.pickle')"
   ]
  },
  {
   "cell_type": "code",
   "execution_count": 89,
   "metadata": {},
   "outputs": [
    {
     "name": "stdout",
     "output_type": "stream",
     "text": [
      "(16154418, 12)\n",
      "(16135561, 11)\n",
      "(20018, 2)\n"
     ]
    }
   ],
   "source": [
    "print(df_merge.shape)\n",
    "print(df_safety.shape)\n",
    "print(df_label.shape)"
   ]
  },
  {
   "cell_type": "markdown",
   "metadata": {},
   "source": [
    "# Let's do an exploratory analysis"
   ]
  },
  {
   "cell_type": "markdown",
   "metadata": {},
   "source": [
    "1. Create a grouping of merged Booking ID. \n",
    "2. Find out the aggregations of each variable."
   ]
  },
  {
   "cell_type": "code",
   "execution_count": null,
   "metadata": {},
   "outputs": [],
   "source": []
  }
 ],
 "metadata": {
  "kernelspec": {
   "display_name": "Python 3",
   "language": "python",
   "name": "python3"
  },
  "language_info": {
   "codemirror_mode": {
    "name": "ipython",
    "version": 3
   },
   "file_extension": ".py",
   "mimetype": "text/x-python",
   "name": "python",
   "nbconvert_exporter": "python",
   "pygments_lexer": "ipython3",
   "version": "3.7.1"
  }
 },
 "nbformat": 4,
 "nbformat_minor": 2
}
